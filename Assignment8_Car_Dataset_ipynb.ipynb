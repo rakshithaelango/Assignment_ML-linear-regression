{
  "nbformat": 4,
  "nbformat_minor": 0,
  "metadata": {
    "colab": {
      "provenance": [],
      "authorship_tag": "ABX9TyNm9UDvK7v8FQT7L2pqpq5+",
      "include_colab_link": true
    },
    "kernelspec": {
      "name": "python3",
      "display_name": "Python 3"
    },
    "language_info": {
      "name": "python"
    }
  },
  "cells": [
    {
      "cell_type": "markdown",
      "metadata": {
        "id": "view-in-github",
        "colab_type": "text"
      },
      "source": [
        "<a href=\"https://colab.research.google.com/github/rakshithaelango/Assignment_ML-linear-regression/blob/main/Assignment8_Car_Dataset_ipynb.ipynb\" target=\"_parent\"><img src=\"https://colab.research.google.com/assets/colab-badge.svg\" alt=\"Open In Colab\"/></a>"
      ]
    },
    {
      "cell_type": "markdown",
      "source": [
        "# **Assignment 8**"
      ],
      "metadata": {
        "id": "T0tQMBLUq0ch"
      }
    },
    {
      "cell_type": "markdown",
      "source": [
        "# **How Much is Your Car Worth?**\n",
        "Data about the retail price of 2005 General Motors cars can be found in car_data.csv.\n",
        "\n",
        "# **The columns are:**\n",
        "\n",
        "1 Price: suggested retail price of the used 2005 GM car in excellent condition.\n",
        "\n",
        "2 Mileage: number of miles the car has been driven\n",
        "\n",
        "3 Make: manufacturer of the car such as Saturn, Pontiac, and Chevrolet\n",
        "\n",
        "4 Model: specific models for each car manufacturer such as Ion, Vibe, Cavalier\n",
        "\n",
        "5 Trim (of car): specific type of car model such as SE Sedan 4D, Quad Coupe 2D\n",
        "\n",
        "6 Type: body type such as sedan, coupe, etc.\n",
        "\n",
        "7 Cylinder: number of cylinders in the engine\n",
        "\n",
        "8 Liter: a more specific measure of engine size\n",
        "\n",
        "9 Doors: number of doors\n",
        "\n",
        "10 Cruise: indicator variable representing whether the car has cruise control (1 = cruise)\n",
        "\n",
        "11 Sound: indicator variable representing whether the car has upgraded speakers (1 = upgraded)\n",
        "\n",
        "12 Leather: indicator variable representing whether the car has leather seats (1 = leather)\n",
        "\n",
        "# **Tasks, Part 1**\n",
        "\n",
        "Find the linear regression equation for mileage vs price.\n",
        "Chart the original data and the equation on the chart.\n",
        "Find the equation's  R2  score (use the .score method) to determine whether the equation is a good fit for this data. (0.8 and greater is considered a strong correlation.)\n",
        "\n",
        "# **Tasks, Part 2**\n",
        "\n",
        "Use mileage, cylinders, liters, doors, cruise, sound, and leather to find the linear regression equation.\n",
        "Find the equation's  R2  score (use the .score method) to determine whether the equation is a good fit for this data. (0.8 and greater is considered a strong correlation.)\n",
        "Find the combination of the factors that is the best predictor for price.\n",
        "\n",
        "# **Tasks, Hard Mode**\n",
        "\n",
        "Research dummy variables in scikit-learn to see how to use the make, model, and body type.\n",
        "\n",
        "Find the best combination of factors to predict price."
      ],
      "metadata": {
        "id": "hDeRxpX1q-_Q"
      }
    },
    {
      "cell_type": "code",
      "execution_count": 4,
      "metadata": {
        "id": "I0lE885Bqhr1"
      },
      "outputs": [],
      "source": [
        "import pandas as pd\n",
        "import matplotlib.pyplot as plt\n",
        "import numpy as np\n",
        "from sklearn import linear_model\n",
        "import seaborn as sns"
      ]
    },
    {
      "cell_type": "code",
      "source": [
        "df = pd.read_csv(\"car_data.csv\")"
      ],
      "metadata": {
        "id": "mS5k8STjr2Ro"
      },
      "execution_count": 5,
      "outputs": []
    },
    {
      "cell_type": "markdown",
      "source": [
        "# **Tasks Part 1**"
      ],
      "metadata": {
        "id": "8uyDvP4ysBA2"
      }
    },
    {
      "cell_type": "code",
      "source": [
        "df=pd.read_csv(\"car_data.csv\")"
      ],
      "metadata": {
        "id": "ChvFnxqqr_vc"
      },
      "execution_count": 6,
      "outputs": []
    },
    {
      "cell_type": "code",
      "source": [
        "# first 5 rows\n",
        "df.head()"
      ],
      "metadata": {
        "colab": {
          "base_uri": "https://localhost:8080/",
          "height": 206
        },
        "id": "vlVTbAiysK4-",
        "outputId": "46888d88-1974-4683-9bce-85ab009da03a"
      },
      "execution_count": 7,
      "outputs": [
        {
          "output_type": "execute_result",
          "data": {
            "text/plain": [
              "          Price  Mileage   Make    Model      Trim   Type  Cylinder  Liter  \\\n",
              "0  17314.103129     8221  Buick  Century  Sedan 4D  Sedan         6    3.1   \n",
              "1  17542.036083     9135  Buick  Century  Sedan 4D  Sedan         6    3.1   \n",
              "2  16218.847862    13196  Buick  Century  Sedan 4D  Sedan         6    3.1   \n",
              "3  16336.913140    16342  Buick  Century  Sedan 4D  Sedan         6    3.1   \n",
              "4  16339.170324    19832  Buick  Century  Sedan 4D  Sedan         6    3.1   \n",
              "\n",
              "   Doors  Cruise  Sound  Leather  \n",
              "0      4       1      1        1  \n",
              "1      4       1      1        0  \n",
              "2      4       1      1        0  \n",
              "3      4       1      0        0  \n",
              "4      4       1      0        1  "
            ],
            "text/html": [
              "\n",
              "  <div id=\"df-91523534-da16-4a8d-b11d-7df5c021d4d8\">\n",
              "    <div class=\"colab-df-container\">\n",
              "      <div>\n",
              "<style scoped>\n",
              "    .dataframe tbody tr th:only-of-type {\n",
              "        vertical-align: middle;\n",
              "    }\n",
              "\n",
              "    .dataframe tbody tr th {\n",
              "        vertical-align: top;\n",
              "    }\n",
              "\n",
              "    .dataframe thead th {\n",
              "        text-align: right;\n",
              "    }\n",
              "</style>\n",
              "<table border=\"1\" class=\"dataframe\">\n",
              "  <thead>\n",
              "    <tr style=\"text-align: right;\">\n",
              "      <th></th>\n",
              "      <th>Price</th>\n",
              "      <th>Mileage</th>\n",
              "      <th>Make</th>\n",
              "      <th>Model</th>\n",
              "      <th>Trim</th>\n",
              "      <th>Type</th>\n",
              "      <th>Cylinder</th>\n",
              "      <th>Liter</th>\n",
              "      <th>Doors</th>\n",
              "      <th>Cruise</th>\n",
              "      <th>Sound</th>\n",
              "      <th>Leather</th>\n",
              "    </tr>\n",
              "  </thead>\n",
              "  <tbody>\n",
              "    <tr>\n",
              "      <th>0</th>\n",
              "      <td>17314.103129</td>\n",
              "      <td>8221</td>\n",
              "      <td>Buick</td>\n",
              "      <td>Century</td>\n",
              "      <td>Sedan 4D</td>\n",
              "      <td>Sedan</td>\n",
              "      <td>6</td>\n",
              "      <td>3.1</td>\n",
              "      <td>4</td>\n",
              "      <td>1</td>\n",
              "      <td>1</td>\n",
              "      <td>1</td>\n",
              "    </tr>\n",
              "    <tr>\n",
              "      <th>1</th>\n",
              "      <td>17542.036083</td>\n",
              "      <td>9135</td>\n",
              "      <td>Buick</td>\n",
              "      <td>Century</td>\n",
              "      <td>Sedan 4D</td>\n",
              "      <td>Sedan</td>\n",
              "      <td>6</td>\n",
              "      <td>3.1</td>\n",
              "      <td>4</td>\n",
              "      <td>1</td>\n",
              "      <td>1</td>\n",
              "      <td>0</td>\n",
              "    </tr>\n",
              "    <tr>\n",
              "      <th>2</th>\n",
              "      <td>16218.847862</td>\n",
              "      <td>13196</td>\n",
              "      <td>Buick</td>\n",
              "      <td>Century</td>\n",
              "      <td>Sedan 4D</td>\n",
              "      <td>Sedan</td>\n",
              "      <td>6</td>\n",
              "      <td>3.1</td>\n",
              "      <td>4</td>\n",
              "      <td>1</td>\n",
              "      <td>1</td>\n",
              "      <td>0</td>\n",
              "    </tr>\n",
              "    <tr>\n",
              "      <th>3</th>\n",
              "      <td>16336.913140</td>\n",
              "      <td>16342</td>\n",
              "      <td>Buick</td>\n",
              "      <td>Century</td>\n",
              "      <td>Sedan 4D</td>\n",
              "      <td>Sedan</td>\n",
              "      <td>6</td>\n",
              "      <td>3.1</td>\n",
              "      <td>4</td>\n",
              "      <td>1</td>\n",
              "      <td>0</td>\n",
              "      <td>0</td>\n",
              "    </tr>\n",
              "    <tr>\n",
              "      <th>4</th>\n",
              "      <td>16339.170324</td>\n",
              "      <td>19832</td>\n",
              "      <td>Buick</td>\n",
              "      <td>Century</td>\n",
              "      <td>Sedan 4D</td>\n",
              "      <td>Sedan</td>\n",
              "      <td>6</td>\n",
              "      <td>3.1</td>\n",
              "      <td>4</td>\n",
              "      <td>1</td>\n",
              "      <td>0</td>\n",
              "      <td>1</td>\n",
              "    </tr>\n",
              "  </tbody>\n",
              "</table>\n",
              "</div>\n",
              "      <button class=\"colab-df-convert\" onclick=\"convertToInteractive('df-91523534-da16-4a8d-b11d-7df5c021d4d8')\"\n",
              "              title=\"Convert this dataframe to an interactive table.\"\n",
              "              style=\"display:none;\">\n",
              "        \n",
              "  <svg xmlns=\"http://www.w3.org/2000/svg\" height=\"24px\"viewBox=\"0 0 24 24\"\n",
              "       width=\"24px\">\n",
              "    <path d=\"M0 0h24v24H0V0z\" fill=\"none\"/>\n",
              "    <path d=\"M18.56 5.44l.94 2.06.94-2.06 2.06-.94-2.06-.94-.94-2.06-.94 2.06-2.06.94zm-11 1L8.5 8.5l.94-2.06 2.06-.94-2.06-.94L8.5 2.5l-.94 2.06-2.06.94zm10 10l.94 2.06.94-2.06 2.06-.94-2.06-.94-.94-2.06-.94 2.06-2.06.94z\"/><path d=\"M17.41 7.96l-1.37-1.37c-.4-.4-.92-.59-1.43-.59-.52 0-1.04.2-1.43.59L10.3 9.45l-7.72 7.72c-.78.78-.78 2.05 0 2.83L4 21.41c.39.39.9.59 1.41.59.51 0 1.02-.2 1.41-.59l7.78-7.78 2.81-2.81c.8-.78.8-2.07 0-2.86zM5.41 20L4 18.59l7.72-7.72 1.47 1.35L5.41 20z\"/>\n",
              "  </svg>\n",
              "      </button>\n",
              "      \n",
              "  <style>\n",
              "    .colab-df-container {\n",
              "      display:flex;\n",
              "      flex-wrap:wrap;\n",
              "      gap: 12px;\n",
              "    }\n",
              "\n",
              "    .colab-df-convert {\n",
              "      background-color: #E8F0FE;\n",
              "      border: none;\n",
              "      border-radius: 50%;\n",
              "      cursor: pointer;\n",
              "      display: none;\n",
              "      fill: #1967D2;\n",
              "      height: 32px;\n",
              "      padding: 0 0 0 0;\n",
              "      width: 32px;\n",
              "    }\n",
              "\n",
              "    .colab-df-convert:hover {\n",
              "      background-color: #E2EBFA;\n",
              "      box-shadow: 0px 1px 2px rgba(60, 64, 67, 0.3), 0px 1px 3px 1px rgba(60, 64, 67, 0.15);\n",
              "      fill: #174EA6;\n",
              "    }\n",
              "\n",
              "    [theme=dark] .colab-df-convert {\n",
              "      background-color: #3B4455;\n",
              "      fill: #D2E3FC;\n",
              "    }\n",
              "\n",
              "    [theme=dark] .colab-df-convert:hover {\n",
              "      background-color: #434B5C;\n",
              "      box-shadow: 0px 1px 3px 1px rgba(0, 0, 0, 0.15);\n",
              "      filter: drop-shadow(0px 1px 2px rgba(0, 0, 0, 0.3));\n",
              "      fill: #FFFFFF;\n",
              "    }\n",
              "  </style>\n",
              "\n",
              "      <script>\n",
              "        const buttonEl =\n",
              "          document.querySelector('#df-91523534-da16-4a8d-b11d-7df5c021d4d8 button.colab-df-convert');\n",
              "        buttonEl.style.display =\n",
              "          google.colab.kernel.accessAllowed ? 'block' : 'none';\n",
              "\n",
              "        async function convertToInteractive(key) {\n",
              "          const element = document.querySelector('#df-91523534-da16-4a8d-b11d-7df5c021d4d8');\n",
              "          const dataTable =\n",
              "            await google.colab.kernel.invokeFunction('convertToInteractive',\n",
              "                                                     [key], {});\n",
              "          if (!dataTable) return;\n",
              "\n",
              "          const docLinkHtml = 'Like what you see? Visit the ' +\n",
              "            '<a target=\"_blank\" href=https://colab.research.google.com/notebooks/data_table.ipynb>data table notebook</a>'\n",
              "            + ' to learn more about interactive tables.';\n",
              "          element.innerHTML = '';\n",
              "          dataTable['output_type'] = 'display_data';\n",
              "          await google.colab.output.renderOutput(dataTable, element);\n",
              "          const docLink = document.createElement('div');\n",
              "          docLink.innerHTML = docLinkHtml;\n",
              "          element.appendChild(docLink);\n",
              "        }\n",
              "      </script>\n",
              "    </div>\n",
              "  </div>\n",
              "  "
            ]
          },
          "metadata": {},
          "execution_count": 7
        }
      ]
    },
    {
      "cell_type": "code",
      "source": [
        "# last 5 rows\n",
        "df.tail()"
      ],
      "metadata": {
        "colab": {
          "base_uri": "https://localhost:8080/",
          "height": 206
        },
        "id": "TA7h7pPEsMcp",
        "outputId": "0d31b552-9cc4-47c7-d6da-79a13fd30bde"
      },
      "execution_count": 8,
      "outputs": [
        {
          "output_type": "execute_result",
          "data": {
            "text/plain": [
              "            Price  Mileage    Make     Model           Trim   Type  Cylinder  \\\n",
              "799  16507.070267    16229  Saturn  L Series  L300 Sedan 4D  Sedan         6   \n",
              "800  16175.957604    19095  Saturn  L Series  L300 Sedan 4D  Sedan         6   \n",
              "801  15731.132897    20484  Saturn  L Series  L300 Sedan 4D  Sedan         6   \n",
              "802  15118.893228    25979  Saturn  L Series  L300 Sedan 4D  Sedan         6   \n",
              "803  13585.636802    35662  Saturn  L Series  L300 Sedan 4D  Sedan         6   \n",
              "\n",
              "     Liter  Doors  Cruise  Sound  Leather  \n",
              "799    3.0      4       1      0        0  \n",
              "800    3.0      4       1      1        0  \n",
              "801    3.0      4       1      1        0  \n",
              "802    3.0      4       1      1        0  \n",
              "803    3.0      4       1      0        0  "
            ],
            "text/html": [
              "\n",
              "  <div id=\"df-01be9fa9-7e97-4585-83aa-8d1b34d67edd\">\n",
              "    <div class=\"colab-df-container\">\n",
              "      <div>\n",
              "<style scoped>\n",
              "    .dataframe tbody tr th:only-of-type {\n",
              "        vertical-align: middle;\n",
              "    }\n",
              "\n",
              "    .dataframe tbody tr th {\n",
              "        vertical-align: top;\n",
              "    }\n",
              "\n",
              "    .dataframe thead th {\n",
              "        text-align: right;\n",
              "    }\n",
              "</style>\n",
              "<table border=\"1\" class=\"dataframe\">\n",
              "  <thead>\n",
              "    <tr style=\"text-align: right;\">\n",
              "      <th></th>\n",
              "      <th>Price</th>\n",
              "      <th>Mileage</th>\n",
              "      <th>Make</th>\n",
              "      <th>Model</th>\n",
              "      <th>Trim</th>\n",
              "      <th>Type</th>\n",
              "      <th>Cylinder</th>\n",
              "      <th>Liter</th>\n",
              "      <th>Doors</th>\n",
              "      <th>Cruise</th>\n",
              "      <th>Sound</th>\n",
              "      <th>Leather</th>\n",
              "    </tr>\n",
              "  </thead>\n",
              "  <tbody>\n",
              "    <tr>\n",
              "      <th>799</th>\n",
              "      <td>16507.070267</td>\n",
              "      <td>16229</td>\n",
              "      <td>Saturn</td>\n",
              "      <td>L Series</td>\n",
              "      <td>L300 Sedan 4D</td>\n",
              "      <td>Sedan</td>\n",
              "      <td>6</td>\n",
              "      <td>3.0</td>\n",
              "      <td>4</td>\n",
              "      <td>1</td>\n",
              "      <td>0</td>\n",
              "      <td>0</td>\n",
              "    </tr>\n",
              "    <tr>\n",
              "      <th>800</th>\n",
              "      <td>16175.957604</td>\n",
              "      <td>19095</td>\n",
              "      <td>Saturn</td>\n",
              "      <td>L Series</td>\n",
              "      <td>L300 Sedan 4D</td>\n",
              "      <td>Sedan</td>\n",
              "      <td>6</td>\n",
              "      <td>3.0</td>\n",
              "      <td>4</td>\n",
              "      <td>1</td>\n",
              "      <td>1</td>\n",
              "      <td>0</td>\n",
              "    </tr>\n",
              "    <tr>\n",
              "      <th>801</th>\n",
              "      <td>15731.132897</td>\n",
              "      <td>20484</td>\n",
              "      <td>Saturn</td>\n",
              "      <td>L Series</td>\n",
              "      <td>L300 Sedan 4D</td>\n",
              "      <td>Sedan</td>\n",
              "      <td>6</td>\n",
              "      <td>3.0</td>\n",
              "      <td>4</td>\n",
              "      <td>1</td>\n",
              "      <td>1</td>\n",
              "      <td>0</td>\n",
              "    </tr>\n",
              "    <tr>\n",
              "      <th>802</th>\n",
              "      <td>15118.893228</td>\n",
              "      <td>25979</td>\n",
              "      <td>Saturn</td>\n",
              "      <td>L Series</td>\n",
              "      <td>L300 Sedan 4D</td>\n",
              "      <td>Sedan</td>\n",
              "      <td>6</td>\n",
              "      <td>3.0</td>\n",
              "      <td>4</td>\n",
              "      <td>1</td>\n",
              "      <td>1</td>\n",
              "      <td>0</td>\n",
              "    </tr>\n",
              "    <tr>\n",
              "      <th>803</th>\n",
              "      <td>13585.636802</td>\n",
              "      <td>35662</td>\n",
              "      <td>Saturn</td>\n",
              "      <td>L Series</td>\n",
              "      <td>L300 Sedan 4D</td>\n",
              "      <td>Sedan</td>\n",
              "      <td>6</td>\n",
              "      <td>3.0</td>\n",
              "      <td>4</td>\n",
              "      <td>1</td>\n",
              "      <td>0</td>\n",
              "      <td>0</td>\n",
              "    </tr>\n",
              "  </tbody>\n",
              "</table>\n",
              "</div>\n",
              "      <button class=\"colab-df-convert\" onclick=\"convertToInteractive('df-01be9fa9-7e97-4585-83aa-8d1b34d67edd')\"\n",
              "              title=\"Convert this dataframe to an interactive table.\"\n",
              "              style=\"display:none;\">\n",
              "        \n",
              "  <svg xmlns=\"http://www.w3.org/2000/svg\" height=\"24px\"viewBox=\"0 0 24 24\"\n",
              "       width=\"24px\">\n",
              "    <path d=\"M0 0h24v24H0V0z\" fill=\"none\"/>\n",
              "    <path d=\"M18.56 5.44l.94 2.06.94-2.06 2.06-.94-2.06-.94-.94-2.06-.94 2.06-2.06.94zm-11 1L8.5 8.5l.94-2.06 2.06-.94-2.06-.94L8.5 2.5l-.94 2.06-2.06.94zm10 10l.94 2.06.94-2.06 2.06-.94-2.06-.94-.94-2.06-.94 2.06-2.06.94z\"/><path d=\"M17.41 7.96l-1.37-1.37c-.4-.4-.92-.59-1.43-.59-.52 0-1.04.2-1.43.59L10.3 9.45l-7.72 7.72c-.78.78-.78 2.05 0 2.83L4 21.41c.39.39.9.59 1.41.59.51 0 1.02-.2 1.41-.59l7.78-7.78 2.81-2.81c.8-.78.8-2.07 0-2.86zM5.41 20L4 18.59l7.72-7.72 1.47 1.35L5.41 20z\"/>\n",
              "  </svg>\n",
              "      </button>\n",
              "      \n",
              "  <style>\n",
              "    .colab-df-container {\n",
              "      display:flex;\n",
              "      flex-wrap:wrap;\n",
              "      gap: 12px;\n",
              "    }\n",
              "\n",
              "    .colab-df-convert {\n",
              "      background-color: #E8F0FE;\n",
              "      border: none;\n",
              "      border-radius: 50%;\n",
              "      cursor: pointer;\n",
              "      display: none;\n",
              "      fill: #1967D2;\n",
              "      height: 32px;\n",
              "      padding: 0 0 0 0;\n",
              "      width: 32px;\n",
              "    }\n",
              "\n",
              "    .colab-df-convert:hover {\n",
              "      background-color: #E2EBFA;\n",
              "      box-shadow: 0px 1px 2px rgba(60, 64, 67, 0.3), 0px 1px 3px 1px rgba(60, 64, 67, 0.15);\n",
              "      fill: #174EA6;\n",
              "    }\n",
              "\n",
              "    [theme=dark] .colab-df-convert {\n",
              "      background-color: #3B4455;\n",
              "      fill: #D2E3FC;\n",
              "    }\n",
              "\n",
              "    [theme=dark] .colab-df-convert:hover {\n",
              "      background-color: #434B5C;\n",
              "      box-shadow: 0px 1px 3px 1px rgba(0, 0, 0, 0.15);\n",
              "      filter: drop-shadow(0px 1px 2px rgba(0, 0, 0, 0.3));\n",
              "      fill: #FFFFFF;\n",
              "    }\n",
              "  </style>\n",
              "\n",
              "      <script>\n",
              "        const buttonEl =\n",
              "          document.querySelector('#df-01be9fa9-7e97-4585-83aa-8d1b34d67edd button.colab-df-convert');\n",
              "        buttonEl.style.display =\n",
              "          google.colab.kernel.accessAllowed ? 'block' : 'none';\n",
              "\n",
              "        async function convertToInteractive(key) {\n",
              "          const element = document.querySelector('#df-01be9fa9-7e97-4585-83aa-8d1b34d67edd');\n",
              "          const dataTable =\n",
              "            await google.colab.kernel.invokeFunction('convertToInteractive',\n",
              "                                                     [key], {});\n",
              "          if (!dataTable) return;\n",
              "\n",
              "          const docLinkHtml = 'Like what you see? Visit the ' +\n",
              "            '<a target=\"_blank\" href=https://colab.research.google.com/notebooks/data_table.ipynb>data table notebook</a>'\n",
              "            + ' to learn more about interactive tables.';\n",
              "          element.innerHTML = '';\n",
              "          dataTable['output_type'] = 'display_data';\n",
              "          await google.colab.output.renderOutput(dataTable, element);\n",
              "          const docLink = document.createElement('div');\n",
              "          docLink.innerHTML = docLinkHtml;\n",
              "          element.appendChild(docLink);\n",
              "        }\n",
              "      </script>\n",
              "    </div>\n",
              "  </div>\n",
              "  "
            ]
          },
          "metadata": {},
          "execution_count": 8
        }
      ]
    },
    {
      "cell_type": "code",
      "source": [
        "# overall the dataset information\n",
        "df.info()"
      ],
      "metadata": {
        "colab": {
          "base_uri": "https://localhost:8080/"
        },
        "id": "OTv7rnpdsRsz",
        "outputId": "9be5a569-d5c0-45a3-a534-5748a5c8805f"
      },
      "execution_count": 9,
      "outputs": [
        {
          "output_type": "stream",
          "name": "stdout",
          "text": [
            "<class 'pandas.core.frame.DataFrame'>\n",
            "RangeIndex: 804 entries, 0 to 803\n",
            "Data columns (total 12 columns):\n",
            " #   Column    Non-Null Count  Dtype  \n",
            "---  ------    --------------  -----  \n",
            " 0   Price     804 non-null    float64\n",
            " 1   Mileage   804 non-null    int64  \n",
            " 2   Make      804 non-null    object \n",
            " 3   Model     804 non-null    object \n",
            " 4   Trim      804 non-null    object \n",
            " 5   Type      804 non-null    object \n",
            " 6   Cylinder  804 non-null    int64  \n",
            " 7   Liter     804 non-null    float64\n",
            " 8   Doors     804 non-null    int64  \n",
            " 9   Cruise    804 non-null    int64  \n",
            " 10  Sound     804 non-null    int64  \n",
            " 11  Leather   804 non-null    int64  \n",
            "dtypes: float64(2), int64(6), object(4)\n",
            "memory usage: 75.5+ KB\n"
          ]
        }
      ]
    },
    {
      "cell_type": "code",
      "source": [
        "# The shape of dataset\n",
        "df.shape"
      ],
      "metadata": {
        "colab": {
          "base_uri": "https://localhost:8080/"
        },
        "id": "i-ADeexCsWUB",
        "outputId": "fd24a78b-bb46-401e-81c9-6fe702f2db5d"
      },
      "execution_count": 10,
      "outputs": [
        {
          "output_type": "execute_result",
          "data": {
            "text/plain": [
              "(804, 12)"
            ]
          },
          "metadata": {},
          "execution_count": 10
        }
      ]
    },
    {
      "cell_type": "code",
      "source": [
        "#finding null values\n",
        "df.isnull().sum()"
      ],
      "metadata": {
        "colab": {
          "base_uri": "https://localhost:8080/"
        },
        "id": "DCaLaWZQsaek",
        "outputId": "50a2de35-ec90-4a14-c143-777c71aabb06"
      },
      "execution_count": 11,
      "outputs": [
        {
          "output_type": "execute_result",
          "data": {
            "text/plain": [
              "Price       0\n",
              "Mileage     0\n",
              "Make        0\n",
              "Model       0\n",
              "Trim        0\n",
              "Type        0\n",
              "Cylinder    0\n",
              "Liter       0\n",
              "Doors       0\n",
              "Cruise      0\n",
              "Sound       0\n",
              "Leather     0\n",
              "dtype: int64"
            ]
          },
          "metadata": {},
          "execution_count": 11
        }
      ]
    },
    {
      "cell_type": "code",
      "source": [
        "#checking for datatypes\n",
        "df.dtypes"
      ],
      "metadata": {
        "colab": {
          "base_uri": "https://localhost:8080/"
        },
        "id": "-84sEObQsb-q",
        "outputId": "24aa9e24-10f5-47a5-e5df-d23a20e714a9"
      },
      "execution_count": 12,
      "outputs": [
        {
          "output_type": "execute_result",
          "data": {
            "text/plain": [
              "Price       float64\n",
              "Mileage       int64\n",
              "Make         object\n",
              "Model        object\n",
              "Trim         object\n",
              "Type         object\n",
              "Cylinder      int64\n",
              "Liter       float64\n",
              "Doors         int64\n",
              "Cruise        int64\n",
              "Sound         int64\n",
              "Leather       int64\n",
              "dtype: object"
            ]
          },
          "metadata": {},
          "execution_count": 12
        }
      ]
    },
    {
      "cell_type": "code",
      "source": [
        "#splitting numerical columns in dataset\n",
        "numerical_features=[x for x in df.columns if df[x].dtype!=\"object\"]\n",
        "numerical_features"
      ],
      "metadata": {
        "colab": {
          "base_uri": "https://localhost:8080/"
        },
        "id": "pNp8rydmseSs",
        "outputId": "e720e6a2-440f-4b09-8490-f4426950abc5"
      },
      "execution_count": 13,
      "outputs": [
        {
          "output_type": "execute_result",
          "data": {
            "text/plain": [
              "['Price',\n",
              " 'Mileage',\n",
              " 'Cylinder',\n",
              " 'Liter',\n",
              " 'Doors',\n",
              " 'Cruise',\n",
              " 'Sound',\n",
              " 'Leather']"
            ]
          },
          "metadata": {},
          "execution_count": 13
        }
      ]
    },
    {
      "cell_type": "code",
      "source": [
        "#splitting categorical columns in dataset\n",
        "categorical_features=[x for x in df.columns if df[x].dtype==\"object\"]\n",
        "categorical_features"
      ],
      "metadata": {
        "colab": {
          "base_uri": "https://localhost:8080/"
        },
        "id": "UsFIt0nasheW",
        "outputId": "7e51a279-0a1b-4ca5-86d8-734e219fafba"
      },
      "execution_count": 14,
      "outputs": [
        {
          "output_type": "execute_result",
          "data": {
            "text/plain": [
              "['Make', 'Model', 'Trim', 'Type']"
            ]
          },
          "metadata": {},
          "execution_count": 14
        }
      ]
    },
    {
      "cell_type": "code",
      "source": [
        "#Unique values in makes column\n",
        "df['Make'].unique()"
      ],
      "metadata": {
        "colab": {
          "base_uri": "https://localhost:8080/"
        },
        "id": "eGezS-UAslmB",
        "outputId": "582a32c7-839b-40e6-a887-f321034b4693"
      },
      "execution_count": 15,
      "outputs": [
        {
          "output_type": "execute_result",
          "data": {
            "text/plain": [
              "array(['Buick', 'Cadillac', 'Chevrolet', 'Pontiac', 'SAAB', 'Saturn'],\n",
              "      dtype=object)"
            ]
          },
          "metadata": {},
          "execution_count": 15
        }
      ]
    },
    {
      "cell_type": "code",
      "source": [
        "#Unique values in Model column\n",
        "df['Model'].unique()"
      ],
      "metadata": {
        "colab": {
          "base_uri": "https://localhost:8080/"
        },
        "id": "1YEEGomEsm6m",
        "outputId": "588e22f1-846e-47ce-f055-4811f535fe85"
      },
      "execution_count": 16,
      "outputs": [
        {
          "output_type": "execute_result",
          "data": {
            "text/plain": [
              "array(['Century', 'Lacrosse', 'Lesabre', 'Park Avenue', 'CST-V', 'CTS',\n",
              "       'Deville', 'STS-V6', 'STS-V8', 'XLR-V8', 'AVEO', 'Cavalier',\n",
              "       'Classic', 'Cobalt', 'Corvette', 'Impala', 'Malibu', 'Monte Carlo',\n",
              "       'Bonneville', 'G6', 'Grand Am', 'Grand Prix', 'GTO', 'Sunfire',\n",
              "       'Vibe', '9_3', '9_3 HO', '9_5', '9_5 HO', '9-2X AWD', 'Ion',\n",
              "       'L Series'], dtype=object)"
            ]
          },
          "metadata": {},
          "execution_count": 16
        }
      ]
    },
    {
      "cell_type": "code",
      "source": [
        "#Unique values in Trim column\n",
        "df['Trim'].unique()"
      ],
      "metadata": {
        "colab": {
          "base_uri": "https://localhost:8080/"
        },
        "id": "AvqAy3Casogy",
        "outputId": "c2a89a09-841d-40f3-f5ea-0992895205b8"
      },
      "execution_count": 17,
      "outputs": [
        {
          "output_type": "execute_result",
          "data": {
            "text/plain": [
              "array(['Sedan 4D', 'CX Sedan 4D', 'CXL Sedan 4D', 'CXS Sedan 4D',\n",
              "       'Custom Sedan 4D', 'Limited Sedan 4D', 'Special Ed Ultra 4D',\n",
              "       'DHS Sedan 4D', 'DTS Sedan 4D', 'Hardtop Conv 2D',\n",
              "       'LS Hatchback 4D', 'LS Sedan 4D', 'LT Hatchback 4D', 'LT Sedan 4D',\n",
              "       'SVM Hatchback 4D', 'SVM Sedan 4D', 'Coupe 2D', 'LS Coupe 2D',\n",
              "       'LS Sport Coupe 2D', 'LS Sport Sedan 4D', 'Conv 2D', 'SS Sedan 4D',\n",
              "       'LS MAXX Hback 4D', 'LT MAXX Hback 4D', 'MAXX Hback 4D',\n",
              "       'LT Coupe 2D', 'SS Coupe 2D', 'GXP Sedan 4D', 'SE Sedan 4D',\n",
              "       'SLE Sedan 4D', 'GT Sedan 4D', 'GT Coupe 2D', 'GTP Sedan 4D',\n",
              "       'AWD Sportwagon 4D', 'GT Sportwagon', 'Sportwagon 4D',\n",
              "       'Linear Conv 2D', 'Linear Sedan 4D', 'Aero Conv 2D',\n",
              "       'Aero Sedan 4D', 'Arc Conv 2D', 'Arc Sedan 4D', 'Arc Wagon 4D',\n",
              "       'Linear Wagon 4D', 'Aero Wagon 4D', 'Quad Coupe 2D',\n",
              "       'L300 Sedan 4D'], dtype=object)"
            ]
          },
          "metadata": {},
          "execution_count": 17
        }
      ]
    },
    {
      "cell_type": "code",
      "source": [
        "#Unique values in Type column\n",
        "df['Type'].unique()"
      ],
      "metadata": {
        "colab": {
          "base_uri": "https://localhost:8080/"
        },
        "id": "r-RGrbc_srdF",
        "outputId": "33c0f2db-57e9-43fa-981c-a9f427c2e5bd"
      },
      "execution_count": 18,
      "outputs": [
        {
          "output_type": "execute_result",
          "data": {
            "text/plain": [
              "array(['Sedan', 'Convertible', 'Hatchback', 'Coupe', 'Wagon'],\n",
              "      dtype=object)"
            ]
          },
          "metadata": {},
          "execution_count": 18
        }
      ]
    },
    {
      "cell_type": "code",
      "source": [
        "#creating Linear Regression model\n",
        "from sklearn.linear_model import LinearRegression\n",
        "from sklearn.metrics import r2_score\n",
        "X = df['Mileage'].values.reshape(-1,1)\n",
        "Y=df['Price'].values.reshape(-1,1)\n",
        "model=LinearRegression()\n",
        "model.fit(X,Y)\n",
        "print(\"Intercept:{}, Coefficients:{}\".format(model.intercept_, model.coef_))"
      ],
      "metadata": {
        "colab": {
          "base_uri": "https://localhost:8080/"
        },
        "id": "8iS1hzSBsteT",
        "outputId": "0be2fc4d-13e0-4925-e488-d165454aa428"
      },
      "execution_count": 19,
      "outputs": [
        {
          "output_type": "stream",
          "name": "stdout",
          "text": [
            "Intercept:[24764.55900606], Coefficients:[[-0.1725205]]\n"
          ]
        }
      ]
    },
    {
      "cell_type": "code",
      "source": [
        "eq = \"Y = {}*X  + {}\".format(model.coef_[0],model.intercept_)\n",
        "print(\"The linear equation for the data is \\n\",eq)"
      ],
      "metadata": {
        "colab": {
          "base_uri": "https://localhost:8080/"
        },
        "id": "NRMXA2Saswi_",
        "outputId": "bbf50c6d-2256-4f37-b2f8-e31e68d69207"
      },
      "execution_count": 20,
      "outputs": [
        {
          "output_type": "stream",
          "name": "stdout",
          "text": [
            "The linear equation for the data is \n",
            " Y = [-0.1725205]*X  + [24764.55900606]\n"
          ]
        }
      ]
    },
    {
      "cell_type": "code",
      "source": [
        "#Plotting the original data and the regression line\n",
        "plt.scatter(X,Y)\n",
        "plt.plot(X, model.predict(X), color=\"black\", linewidth=2)\n",
        "plt.xlabel(\"Mileage\")\n",
        "plt.ylabel(\"Price\")\n",
        "plt.title(\"Mileage vs Price\")\n",
        "plt.show()"
      ],
      "metadata": {
        "colab": {
          "base_uri": "https://localhost:8080/",
          "height": 472
        },
        "id": "Yp_4HkX_syz1",
        "outputId": "7742b9c8-4408-412c-c071-cda4d65bd635"
      },
      "execution_count": 21,
      "outputs": [
        {
          "output_type": "display_data",
          "data": {
            "text/plain": [
              "<Figure size 640x480 with 1 Axes>"
            ],
            "image/png": "[encoded data removed]"
          },
          "metadata": {}
        }
      ]
    },
    {
      "cell_type": "code",
      "source": [
        "#r2 score of the model\n",
        "model.score(X,Y)  "
      ],
      "metadata": {
        "colab": {
          "base_uri": "https://localhost:8080/"
        },
        "id": "ktTrOp55s0ev",
        "outputId": "05bc0c11-4377-4a59-e5c2-5e2a84e28716"
      },
      "execution_count": 22,
      "outputs": [
        {
          "output_type": "execute_result",
          "data": {
            "text/plain": [
              "0.02046344732348926"
            ]
          },
          "metadata": {},
          "execution_count": 22
        }
      ]
    },
    {
      "cell_type": "markdown",
      "source": [
        "**The R2 score for the model is very low so there is no correlation between the mileage and the price column**\n",
        "\n",
        "# **task 2**"
      ],
      "metadata": {
        "id": "f4FktTzEtXaP"
      }
    },
    {
      "cell_type": "code",
      "source": [
        "#Use mileage, cylinders, liters, doors, cruise, sound, and leather to find the linear regression equation.\n",
        "input_cols = ['Mileage','Cylinder','Liter','Doors','Cruise','Sound','Leather']\n",
        "X = df[input_cols]"
      ],
      "metadata": {
        "id": "bYEsn5-VtPXM"
      },
      "execution_count": 23,
      "outputs": []
    },
    {
      "cell_type": "code",
      "source": [
        "from sklearn.preprocessing import StandardScaler,MinMaxScaler\n",
        "func1 = MinMaxScaler(feature_range = (0,1))\n",
        "func2 = StandardScaler()\n",
        "X_norm = func1.fit_transform(X)\n",
        "func2.fit(X)\n",
        "X_stand = func2.transform(X) "
      ],
      "metadata": {
        "id": "DxTULSl4tbCc"
      },
      "execution_count": 24,
      "outputs": []
    },
    {
      "cell_type": "code",
      "source": [
        "Y = df['Price'].values.reshape(-1,1)\n",
        "model1 = LinearRegression()\n",
        "model1.fit(X,Y)\n",
        "print(\"Intercept:{} ,Coefficients:{}\".format(model1.intercept_, model1.coef_))\n",
        "model1.score(X,Y)"
      ],
      "metadata": {
        "colab": {
          "base_uri": "https://localhost:8080/"
        },
        "id": "SvYmrq5Ctclv",
        "outputId": "ffa20c80-d995-4dc1-babc-c2465a3fddbe"
      },
      "execution_count": 25,
      "outputs": [
        {
          "output_type": "stream",
          "name": "stdout",
          "text": [
            "Intercept:[6758.7551436] ,Coefficients:[[-1.69747832e-01  3.79237893e+03 -7.87220732e+02 -1.54274585e+03\n",
            "   6.28899715e+03 -1.99379528e+03  3.34936162e+03]]\n"
          ]
        },
        {
          "output_type": "execute_result",
          "data": {
            "text/plain": [
              "0.446264353672838"
            ]
          },
          "metadata": {},
          "execution_count": 25
        }
      ]
    },
    {
      "cell_type": "code",
      "source": [
        "Y = df['Price'].values.reshape(-1,1)\n",
        "model2 = LinearRegression()\n",
        "model2.fit(X_stand,Y)\n",
        "print(\"Intercept:{} ,Coefficients:{}\".format(model2.intercept_, model2.coef_))\n",
        "model2.score(X_stand,Y)"
      ],
      "metadata": {
        "colab": {
          "base_uri": "https://localhost:8080/"
        },
        "id": "S4qkjyf3tht6",
        "outputId": "4be2df66-48d5-4e94-da9f-ae85bbe51504"
      },
      "execution_count": 26,
      "outputs": [
        {
          "output_type": "stream",
          "name": "stdout",
          "text": [
            "Intercept:[21343.14376733] ,Coefficients:[[-1390.44199315  5258.77092032  -869.77988086 -1310.7785287\n",
            "   2714.12330837  -930.74494929  1497.42117515]]\n"
          ]
        },
        {
          "output_type": "execute_result",
          "data": {
            "text/plain": [
              "0.446264353672838"
            ]
          },
          "metadata": {},
          "execution_count": 26
        }
      ]
    },
    {
      "cell_type": "code",
      "source": [
        "Y = df['Price'].values.reshape(-1,1)\n",
        "model3 = LinearRegression()\n",
        "model3.fit(X_norm,Y)\n",
        "print(\"Intercept:{} ,Coefficients:{}\".format(model3.intercept_, model3.coef_))\n",
        "model3.score(X_norm,Y)"
      ],
      "metadata": {
        "colab": {
          "base_uri": "https://localhost:8080/"
        },
        "id": "mzvKUcz9tnO8",
        "outputId": "d9de2e62-6319-49dd-8df6-ad71199881d1"
      },
      "execution_count": 27,
      "outputs": [
        {
          "output_type": "stream",
          "name": "stdout",
          "text": [
            "Intercept:[17538.07307995] ,Coefficients:[[-8507.93110436 15169.51572313 -3463.77121919 -3085.49169276\n",
            "   6288.99714985 -1993.7952757   3349.36161961]]\n"
          ]
        },
        {
          "output_type": "execute_result",
          "data": {
            "text/plain": [
              "0.4462643536728379"
            ]
          },
          "metadata": {},
          "execution_count": 27
        }
      ]
    },
    {
      "cell_type": "code",
      "source": [
        "import itertools as it\n",
        "def input_combos(cols):\n",
        "    return [it.combinations(cols, n+1) for n in range(len(cols))]"
      ],
      "metadata": {
        "id": "WZ7-mBMdtqL-"
      },
      "execution_count": 28,
      "outputs": []
    },
    {
      "cell_type": "code",
      "source": [
        "combos = input_combos(input_cols)"
      ],
      "metadata": {
        "id": "jeHTzYlqttn6"
      },
      "execution_count": 29,
      "outputs": []
    },
    {
      "cell_type": "code",
      "source": [
        "#Creating a model for each combination and returning the r2 scores\n",
        "def combo_r2scores( all_combos, df, output='Price'):\n",
        "    combo_scores = {}\n",
        "    for i in range(len(list(all_combos))):\n",
        "        for j in list(all_combos[i]):\n",
        "            X = df[list(j)]\n",
        "            Y = df['Price']\n",
        "            model = LinearRegression().fit(X,Y)\n",
        "            combo_scores[model.score(X,Y)] = j\n",
        "    return combo_scores"
      ],
      "metadata": {
        "id": "rOaPQEHdtu6T"
      },
      "execution_count": 30,
      "outputs": []
    },
    {
      "cell_type": "code",
      "source": [
        "combo_r2scores(combos,df,'Price')"
      ],
      "metadata": {
        "colab": {
          "base_uri": "https://localhost:8080/"
        },
        "id": "XTNNQatMtw2M",
        "outputId": "fd6a8fcb-b664-4064-fe02-cb4c8dc56047"
      },
      "execution_count": 31,
      "outputs": [
        {
          "output_type": "execute_result",
          "data": {
            "text/plain": [
              "{0.02046344732348926: ('Mileage',),\n",
              " 0.32385903759512247: ('Cylinder',),\n",
              " 0.31152674427904503: ('Liter',),\n",
              " 0.019251466591467037: ('Doors',),\n",
              " 0.1856330092969276: ('Cruise',),\n",
              " 0.015462387624189389: ('Sound',),\n",
              " 0.024710851264124534: ('Leather',),\n",
              " 0.33982070826367505: ('Mileage', 'Cylinder'),\n",
              " 0.3291279066854156: ('Mileage', 'Liter'),\n",
              " 0.04039914867118721: ('Mileage', 'Doors'),\n",
              " 0.2093138558315858: ('Mileage', 'Cruise'),\n",
              " 0.03688121596735017: ('Mileage', 'Sound'),\n",
              " 0.04521956340886857: ('Mileage', 'Leather'),\n",
              " 0.32591551601566593: ('Cylinder', 'Liter'),\n",
              " 0.343460536583038: ('Cylinder', 'Doors'),\n",
              " 0.3839491324027344: ('Cylinder', 'Cruise'),\n",
              " 0.32927527347959384: ('Cylinder', 'Sound'),\n",
              " 0.33698000644980597: ('Cylinder', 'Leather'),\n",
              " 0.32051564077668315: ('Liter', 'Doors'),\n",
              " 0.3680458490296844: ('Liter', 'Cruise'),\n",
              " 0.31926427639502897: ('Liter', 'Sound'),\n",
              " 0.32337917189904186: ('Liter', 'Leather'),\n",
              " 0.1996382468921617: ('Doors', 'Cruise'),\n",
              " 0.03701628770903431: ('Doors', 'Sound'),\n",
              " 0.04141817346866039: ('Doors', 'Leather'),\n",
              " 0.19288948066869627: ('Cruise', 'Sound'),\n",
              " 0.2210042052179847: ('Cruise', 'Leather'),\n",
              " 0.04795369092082724: ('Sound', 'Leather'),\n",
              " 0.34228021178720824: ('Mileage', 'Cylinder', 'Liter'),\n",
              " 0.3600299189649303: ('Mileage', 'Cylinder', 'Doors'),\n",
              " 0.4023745860316019: ('Mileage', 'Cylinder', 'Cruise'),\n",
              " 0.34579303945195394: ('Mileage', 'Cylinder', 'Sound'),\n",
              " 0.35303578931823965: ('Mileage', 'Cylinder', 'Leather'),\n",
              " 0.33859102766485816: ('Mileage', 'Liter', 'Doors'),\n",
              " 0.38792398390551597: ('Mileage', 'Liter', 'Cruise'),\n",
              " 0.3375252452641955: ('Mileage', 'Liter', 'Sound'),\n",
              " 0.34105691618639955: ('Mileage', 'Liter', 'Leather'),\n",
              " 0.2239031407636466: ('Mileage', 'Doors', 'Cruise'),\n",
              " 0.05925054392042661: ('Mileage', 'Doors', 'Sound'),\n",
              " 0.06256392121987708: ('Mileage', 'Doors', 'Leather'),\n",
              " 0.21721656906779263: ('Mileage', 'Cruise', 'Sound'),\n",
              " 0.24484643441472986: ('Mileage', 'Cruise', 'Leather'),\n",
              " 0.06965940622436506: ('Mileage', 'Sound', 'Leather'),\n",
              " 0.3434954780689595: ('Cylinder', 'Liter', 'Doors'),\n",
              " 0.3840622008524506: ('Cylinder', 'Liter', 'Cruise'),\n",
              " 0.3318486045315714: ('Cylinder', 'Liter', 'Sound'),\n",
              " 0.33853269361625415: ('Cylinder', 'Liter', 'Leather'),\n",
              " 0.4001989079545568: ('Cylinder', 'Doors', 'Cruise'),\n",
              " 0.3502699330133767: ('Cylinder', 'Doors', 'Sound'),\n",
              " 0.3547026130008998: ('Cylinder', 'Doors', 'Leather'),\n",
              " 0.3873058022296456: ('Cylinder', 'Cruise', 'Sound'),\n",
              " 0.40380272693971553: ('Cylinder', 'Cruise', 'Leather'),\n",
              " 0.3459853327541679: ('Cylinder', 'Sound', 'Leather'),\n",
              " 0.3761916805347969: ('Liter', 'Doors', 'Cruise'),\n",
              " 0.32947196699054004: ('Liter', 'Doors', 'Sound'),\n",
              " 0.3312844538529036: ('Liter', 'Doors', 'Leather'),\n",
              " 0.3730745596141458: ('Liter', 'Cruise', 'Sound'),\n",
              " 0.38665505937731115: ('Liter', 'Cruise', 'Leather'),\n",
              " 0.33511407076463473: ('Liter', 'Sound', 'Leather'),\n",
              " 0.2083536888853531: ('Doors', 'Cruise', 'Sound'),\n",
              " 0.23229120295179528: ('Doors', 'Cruise', 'Leather'),\n",
              " 0.06687313316188848: ('Doors', 'Sound', 'Leather'),\n",
              " 0.23464406340531807: ('Cruise', 'Sound', 'Leather'),\n",
              " 0.3601250633027092: ('Mileage', 'Cylinder', 'Liter', 'Doors'),\n",
              " 0.4025842618924307: ('Mileage', 'Cylinder', 'Liter', 'Cruise'),\n",
              " 0.34885465224422074: ('Mileage', 'Cylinder', 'Liter', 'Sound'),\n",
              " 0.354940443055751: ('Mileage', 'Cylinder', 'Liter', 'Leather'),\n",
              " 0.41914964510731756: ('Mileage', 'Cylinder', 'Doors', 'Cruise'),\n",
              " 0.3674991296973681: ('Mileage', 'Cylinder', 'Doors', 'Sound'),\n",
              " 0.37133199838451947: ('Mileage', 'Cylinder', 'Doors', 'Leather'),\n",
              " 0.4061644982625815: ('Mileage', 'Cylinder', 'Cruise', 'Sound'),\n",
              " 0.4225074214774762: ('Mileage', 'Cylinder', 'Cruise', 'Leather'),\n",
              " 0.3627841037859246: ('Mileage', 'Cylinder', 'Sound', 'Leather'),\n",
              " 0.39653266980131807: ('Mileage', 'Liter', 'Doors', 'Cruise'),\n",
              " 0.34830222786670784: ('Mileage', 'Liter', 'Doors', 'Sound'),\n",
              " 0.34940517971815865: ('Mileage', 'Liter', 'Doors', 'Leather'),\n",
              " 0.39346849142215845: ('Mileage', 'Liter', 'Cruise', 'Sound'),\n",
              " 0.40678789687026895: ('Mileage', 'Liter', 'Cruise', 'Leather'),\n",
              " 0.35363153818528137: ('Mileage', 'Liter', 'Sound', 'Leather'),\n",
              " 0.23336920288580454: ('Mileage', 'Doors', 'Cruise', 'Sound'),\n",
              " 0.2566547812611919: ('Mileage', 'Doors', 'Cruise', 'Leather'),\n",
              " 0.08933709379370725: ('Mileage', 'Doors', 'Sound', 'Leather'),\n",
              " 0.2594013856567562: ('Mileage', 'Cruise', 'Sound', 'Leather'),\n",
              " 0.4008748693270304: ('Cylinder', 'Liter', 'Doors', 'Cruise'),\n",
              " 0.35038121816111256: ('Cylinder', 'Liter', 'Doors', 'Sound'),\n",
              " 0.3547068894092531: ('Cylinder', 'Liter', 'Doors', 'Leather'),\n",
              " 0.38754312167360194: ('Cylinder', 'Liter', 'Cruise', 'Sound'),\n",
              " 0.40380376425767606: ('Cylinder', 'Liter', 'Cruise', 'Leather'),\n",
              " 0.34805583937456297: ('Cylinder', 'Liter', 'Sound', 'Leather'),\n",
              " 0.40462307098659855: ('Cylinder', 'Doors', 'Cruise', 'Sound'),\n",
              " 0.4177602737019719: ('Cylinder', 'Doors', 'Cruise', 'Leather'),\n",
              " 0.36511700356207033: ('Cylinder', 'Doors', 'Sound', 'Leather'),\n",
              " 0.41065494158588833: ('Cylinder', 'Cruise', 'Sound', 'Leather'),\n",
              " 0.38218087776588217: ('Liter', 'Doors', 'Cruise', 'Sound'),\n",
              " 0.39345887351036213: ('Liter', 'Doors', 'Cruise', 'Leather'),\n",
              " 0.3442397580756411: ('Liter', 'Doors', 'Sound', 'Leather'),\n",
              " 0.39564260736568424: ('Liter', 'Cruise', 'Sound', 'Leather'),\n",
              " 0.2474491349580754: ('Doors', 'Cruise', 'Sound', 'Leather'),\n",
              " 0.4196580477703242: ('Mileage', 'Cylinder', 'Liter', 'Doors', 'Cruise'),\n",
              " 0.36771522262682854: ('Mileage', 'Cylinder', 'Liter', 'Doors', 'Sound'),\n",
              " 0.37136690890240676: ('Mileage', 'Cylinder', 'Liter', 'Doors', 'Leather'),\n",
              " 0.40654915865835195: ('Mileage', 'Cylinder', 'Liter', 'Cruise', 'Sound'),\n",
              " 0.4225307670398465: ('Mileage', 'Cylinder', 'Liter', 'Cruise', 'Leather'),\n",
              " 0.365294232839972: ('Mileage', 'Cylinder', 'Liter', 'Sound', 'Leather'),\n",
              " 0.42409748258510405: ('Mileage', 'Cylinder', 'Doors', 'Cruise', 'Sound'),\n",
              " 0.4369402151237246: ('Mileage', 'Cylinder', 'Doors', 'Cruise', 'Leather'),\n",
              " 0.38258521179336924: ('Mileage', 'Cylinder', 'Doors', 'Sound', 'Leather'),\n",
              " 0.43001820483252684: ('Mileage', 'Cylinder', 'Cruise', 'Sound', 'Leather'),\n",
              " 0.4031213170211536: ('Mileage', 'Liter', 'Doors', 'Cruise', 'Sound'),\n",
              " 0.414009223163035: ('Mileage', 'Liter', 'Doors', 'Cruise', 'Leather'),\n",
              " 0.36329101174690714: ('Mileage', 'Liter', 'Doors', 'Sound', 'Leather'),\n",
              " 0.41650804904235117: ('Mileage', 'Liter', 'Cruise', 'Sound', 'Leather'),\n",
              " 0.272825947675678: ('Mileage', 'Doors', 'Cruise', 'Sound', 'Leather'),\n",
              " 0.4050927515057854: ('Cylinder', 'Liter', 'Doors', 'Cruise', 'Sound'),\n",
              " 0.4188394218057132: ('Cylinder', 'Liter', 'Doors', 'Cruise', 'Leather'),\n",
              " 0.36516944395094464: ('Cylinder', 'Liter', 'Doors', 'Sound', 'Leather'),\n",
              " 0.4107029526441045: ('Cylinder', 'Liter', 'Cruise', 'Sound', 'Leather'),\n",
              " 0.4257681327974421: ('Cylinder', 'Doors', 'Cruise', 'Sound', 'Leather'),\n",
              " 0.40346337208358063: ('Liter', 'Doors', 'Cruise', 'Sound', 'Leather'),\n",
              " 0.4244182401799875: ('Mileage',\n",
              "  'Cylinder',\n",
              "  'Liter',\n",
              "  'Doors',\n",
              "  'Cruise',\n",
              "  'Sound'),\n",
              " 0.437805741536638: ('Mileage',\n",
              "  'Cylinder',\n",
              "  'Liter',\n",
              "  'Doors',\n",
              "  'Cruise',\n",
              "  'Leather'),\n",
              " 0.382715045002158: ('Mileage',\n",
              "  'Cylinder',\n",
              "  'Liter',\n",
              "  'Doors',\n",
              "  'Sound',\n",
              "  'Leather'),\n",
              " 0.43014148406475594: ('Mileage',\n",
              "  'Cylinder',\n",
              "  'Liter',\n",
              "  'Cruise',\n",
              "  'Sound',\n",
              "  'Leather'),\n",
              " 0.44569092105870245: ('Mileage',\n",
              "  'Cylinder',\n",
              "  'Doors',\n",
              "  'Cruise',\n",
              "  'Sound',\n",
              "  'Leather'),\n",
              " 0.42482840454267856: ('Mileage',\n",
              "  'Liter',\n",
              "  'Doors',\n",
              "  'Cruise',\n",
              "  'Sound',\n",
              "  'Leather'),\n",
              " 0.4265348637809264: ('Cylinder',\n",
              "  'Liter',\n",
              "  'Doors',\n",
              "  'Cruise',\n",
              "  'Sound',\n",
              "  'Leather'),\n",
              " 0.446264353672838: ('Mileage',\n",
              "  'Cylinder',\n",
              "  'Liter',\n",
              "  'Doors',\n",
              "  'Cruise',\n",
              "  'Sound',\n",
              "  'Leather')}"
            ]
          },
          "metadata": {},
          "execution_count": 31
        }
      ]
    },
    {
      "cell_type": "markdown",
      "source": [
        "# **task 3**"
      ],
      "metadata": {
        "id": "dW7QGqGut6bZ"
      }
    },
    {
      "cell_type": "code",
      "source": [
        "df1 = df.copy()"
      ],
      "metadata": {
        "id": "9mliETSEtzLa"
      },
      "execution_count": 32,
      "outputs": []
    },
    {
      "cell_type": "code",
      "source": [
        "#As we have more than 40 categories in these 3 columns so trying label encoding\n",
        "df1[['Make','Model','Type']] = df1[['Make','Model','Type']].astype('category')\n",
        "df1.dtypes\n"
      ],
      "metadata": {
        "colab": {
          "base_uri": "https://localhost:8080/"
        },
        "id": "SElwWmqTt_ik",
        "outputId": "c29b20d0-00c9-49bb-b026-04136f2a40fd"
      },
      "execution_count": 33,
      "outputs": [
        {
          "output_type": "execute_result",
          "data": {
            "text/plain": [
              "Price        float64\n",
              "Mileage        int64\n",
              "Make        category\n",
              "Model       category\n",
              "Trim          object\n",
              "Type        category\n",
              "Cylinder       int64\n",
              "Liter        float64\n",
              "Doors          int64\n",
              "Cruise         int64\n",
              "Sound          int64\n",
              "Leather        int64\n",
              "dtype: object"
            ]
          },
          "metadata": {},
          "execution_count": 33
        }
      ]
    },
    {
      "cell_type": "code",
      "source": [
        "df1['Make'] = df1['Make'].cat.codes\n",
        "df1['Model'] = df1['Model'].cat.codes\n",
        "df1['Type'] = df1['Type'].cat.codes\n",
        "df1"
      ],
      "metadata": {
        "colab": {
          "base_uri": "https://localhost:8080/",
          "height": 424
        },
        "id": "8OX2aWpnuEFE",
        "outputId": "a4737818-9743-4ff2-d515-fbc9f5a46708"
      },
      "execution_count": 34,
      "outputs": [
        {
          "output_type": "execute_result",
          "data": {
            "text/plain": [
              "            Price  Mileage  Make  Model           Trim  Type  Cylinder  Liter  \\\n",
              "0    17314.103129     8221     0     10       Sedan 4D     3         6    3.1   \n",
              "1    17542.036083     9135     0     10       Sedan 4D     3         6    3.1   \n",
              "2    16218.847862    13196     0     10       Sedan 4D     3         6    3.1   \n",
              "3    16336.913140    16342     0     10       Sedan 4D     3         6    3.1   \n",
              "4    16339.170324    19832     0     10       Sedan 4D     3         6    3.1   \n",
              "..            ...      ...   ...    ...            ...   ...       ...    ...   \n",
              "799  16507.070267    16229     5     21  L300 Sedan 4D     3         6    3.0   \n",
              "800  16175.957604    19095     5     21  L300 Sedan 4D     3         6    3.0   \n",
              "801  15731.132897    20484     5     21  L300 Sedan 4D     3         6    3.0   \n",
              "802  15118.893228    25979     5     21  L300 Sedan 4D     3         6    3.0   \n",
              "803  13585.636802    35662     5     21  L300 Sedan 4D     3         6    3.0   \n",
              "\n",
              "     Doors  Cruise  Sound  Leather  \n",
              "0        4       1      1        1  \n",
              "1        4       1      1        0  \n",
              "2        4       1      1        0  \n",
              "3        4       1      0        0  \n",
              "4        4       1      0        1  \n",
              "..     ...     ...    ...      ...  \n",
              "799      4       1      0        0  \n",
              "800      4       1      1        0  \n",
              "801      4       1      1        0  \n",
              "802      4       1      1        0  \n",
              "803      4       1      0        0  \n",
              "\n",
              "[804 rows x 12 columns]"
            ],
            "text/html": [
              "\n",
              "  <div id=\"df-cc6f2ad7-aefa-4ac5-a94f-79bad6a5ca6c\">\n",
              "    <div class=\"colab-df-container\">\n",
              "      <div>\n",
              "<style scoped>\n",
              "    .dataframe tbody tr th:only-of-type {\n",
              "        vertical-align: middle;\n",
              "    }\n",
              "\n",
              "    .dataframe tbody tr th {\n",
              "        vertical-align: top;\n",
              "    }\n",
              "\n",
              "    .dataframe thead th {\n",
              "        text-align: right;\n",
              "    }\n",
              "</style>\n",
              "<table border=\"1\" class=\"dataframe\">\n",
              "  <thead>\n",
              "    <tr style=\"text-align: right;\">\n",
              "      <th></th>\n",
              "      <th>Price</th>\n",
              "      <th>Mileage</th>\n",
              "      <th>Make</th>\n",
              "      <th>Model</th>\n",
              "      <th>Trim</th>\n",
              "      <th>Type</th>\n",
              "      <th>Cylinder</th>\n",
              "      <th>Liter</th>\n",
              "      <th>Doors</th>\n",
              "      <th>Cruise</th>\n",
              "      <th>Sound</th>\n",
              "      <th>Leather</th>\n",
              "    </tr>\n",
              "  </thead>\n",
              "  <tbody>\n",
              "    <tr>\n",
              "      <th>0</th>\n",
              "      <td>17314.103129</td>\n",
              "      <td>8221</td>\n",
              "      <td>0</td>\n",
              "      <td>10</td>\n",
              "      <td>Sedan 4D</td>\n",
              "      <td>3</td>\n",
              "      <td>6</td>\n",
              "      <td>3.1</td>\n",
              "      <td>4</td>\n",
              "      <td>1</td>\n",
              "      <td>1</td>\n",
              "      <td>1</td>\n",
              "    </tr>\n",
              "    <tr>\n",
              "      <th>1</th>\n",
              "      <td>17542.036083</td>\n",
              "      <td>9135</td>\n",
              "      <td>0</td>\n",
              "      <td>10</td>\n",
              "      <td>Sedan 4D</td>\n",
              "      <td>3</td>\n",
              "      <td>6</td>\n",
              "      <td>3.1</td>\n",
              "      <td>4</td>\n",
              "      <td>1</td>\n",
              "      <td>1</td>\n",
              "      <td>0</td>\n",
              "    </tr>\n",
              "    <tr>\n",
              "      <th>2</th>\n",
              "      <td>16218.847862</td>\n",
              "      <td>13196</td>\n",
              "      <td>0</td>\n",
              "      <td>10</td>\n",
              "      <td>Sedan 4D</td>\n",
              "      <td>3</td>\n",
              "      <td>6</td>\n",
              "      <td>3.1</td>\n",
              "      <td>4</td>\n",
              "      <td>1</td>\n",
              "      <td>1</td>\n",
              "      <td>0</td>\n",
              "    </tr>\n",
              "    <tr>\n",
              "      <th>3</th>\n",
              "      <td>16336.913140</td>\n",
              "      <td>16342</td>\n",
              "      <td>0</td>\n",
              "      <td>10</td>\n",
              "      <td>Sedan 4D</td>\n",
              "      <td>3</td>\n",
              "      <td>6</td>\n",
              "      <td>3.1</td>\n",
              "      <td>4</td>\n",
              "      <td>1</td>\n",
              "      <td>0</td>\n",
              "      <td>0</td>\n",
              "    </tr>\n",
              "    <tr>\n",
              "      <th>4</th>\n",
              "      <td>16339.170324</td>\n",
              "      <td>19832</td>\n",
              "      <td>0</td>\n",
              "      <td>10</td>\n",
              "      <td>Sedan 4D</td>\n",
              "      <td>3</td>\n",
              "      <td>6</td>\n",
              "      <td>3.1</td>\n",
              "      <td>4</td>\n",
              "      <td>1</td>\n",
              "      <td>0</td>\n",
              "      <td>1</td>\n",
              "    </tr>\n",
              "    <tr>\n",
              "      <th>...</th>\n",
              "      <td>...</td>\n",
              "      <td>...</td>\n",
              "      <td>...</td>\n",
              "      <td>...</td>\n",
              "      <td>...</td>\n",
              "      <td>...</td>\n",
              "      <td>...</td>\n",
              "      <td>...</td>\n",
              "      <td>...</td>\n",
              "      <td>...</td>\n",
              "      <td>...</td>\n",
              "      <td>...</td>\n",
              "    </tr>\n",
              "    <tr>\n",
              "      <th>799</th>\n",
              "      <td>16507.070267</td>\n",
              "      <td>16229</td>\n",
              "      <td>5</td>\n",
              "      <td>21</td>\n",
              "      <td>L300 Sedan 4D</td>\n",
              "      <td>3</td>\n",
              "      <td>6</td>\n",
              "      <td>3.0</td>\n",
              "      <td>4</td>\n",
              "      <td>1</td>\n",
              "      <td>0</td>\n",
              "      <td>0</td>\n",
              "    </tr>\n",
              "    <tr>\n",
              "      <th>800</th>\n",
              "      <td>16175.957604</td>\n",
              "      <td>19095</td>\n",
              "      <td>5</td>\n",
              "      <td>21</td>\n",
              "      <td>L300 Sedan 4D</td>\n",
              "      <td>3</td>\n",
              "      <td>6</td>\n",
              "      <td>3.0</td>\n",
              "      <td>4</td>\n",
              "      <td>1</td>\n",
              "      <td>1</td>\n",
              "      <td>0</td>\n",
              "    </tr>\n",
              "    <tr>\n",
              "      <th>801</th>\n",
              "      <td>15731.132897</td>\n",
              "      <td>20484</td>\n",
              "      <td>5</td>\n",
              "      <td>21</td>\n",
              "      <td>L300 Sedan 4D</td>\n",
              "      <td>3</td>\n",
              "      <td>6</td>\n",
              "      <td>3.0</td>\n",
              "      <td>4</td>\n",
              "      <td>1</td>\n",
              "      <td>1</td>\n",
              "      <td>0</td>\n",
              "    </tr>\n",
              "    <tr>\n",
              "      <th>802</th>\n",
              "      <td>15118.893228</td>\n",
              "      <td>25979</td>\n",
              "      <td>5</td>\n",
              "      <td>21</td>\n",
              "      <td>L300 Sedan 4D</td>\n",
              "      <td>3</td>\n",
              "      <td>6</td>\n",
              "      <td>3.0</td>\n",
              "      <td>4</td>\n",
              "      <td>1</td>\n",
              "      <td>1</td>\n",
              "      <td>0</td>\n",
              "    </tr>\n",
              "    <tr>\n",
              "      <th>803</th>\n",
              "      <td>13585.636802</td>\n",
              "      <td>35662</td>\n",
              "      <td>5</td>\n",
              "      <td>21</td>\n",
              "      <td>L300 Sedan 4D</td>\n",
              "      <td>3</td>\n",
              "      <td>6</td>\n",
              "      <td>3.0</td>\n",
              "      <td>4</td>\n",
              "      <td>1</td>\n",
              "      <td>0</td>\n",
              "      <td>0</td>\n",
              "    </tr>\n",
              "  </tbody>\n",
              "</table>\n",
              "<p>804 rows × 12 columns</p>\n",
              "</div>\n",
              "      <button class=\"colab-df-convert\" onclick=\"convertToInteractive('df-cc6f2ad7-aefa-4ac5-a94f-79bad6a5ca6c')\"\n",
              "              title=\"Convert this dataframe to an interactive table.\"\n",
              "              style=\"display:none;\">\n",
              "        \n",
              "  <svg xmlns=\"http://www.w3.org/2000/svg\" height=\"24px\"viewBox=\"0 0 24 24\"\n",
              "       width=\"24px\">\n",
              "    <path d=\"M0 0h24v24H0V0z\" fill=\"none\"/>\n",
              "    <path d=\"M18.56 5.44l.94 2.06.94-2.06 2.06-.94-2.06-.94-.94-2.06-.94 2.06-2.06.94zm-11 1L8.5 8.5l.94-2.06 2.06-.94-2.06-.94L8.5 2.5l-.94 2.06-2.06.94zm10 10l.94 2.06.94-2.06 2.06-.94-2.06-.94-.94-2.06-.94 2.06-2.06.94z\"/><path d=\"M17.41 7.96l-1.37-1.37c-.4-.4-.92-.59-1.43-.59-.52 0-1.04.2-1.43.59L10.3 9.45l-7.72 7.72c-.78.78-.78 2.05 0 2.83L4 21.41c.39.39.9.59 1.41.59.51 0 1.02-.2 1.41-.59l7.78-7.78 2.81-2.81c.8-.78.8-2.07 0-2.86zM5.41 20L4 18.59l7.72-7.72 1.47 1.35L5.41 20z\"/>\n",
              "  </svg>\n",
              "      </button>\n",
              "      \n",
              "  <style>\n",
              "    .colab-df-container {\n",
              "      display:flex;\n",
              "      flex-wrap:wrap;\n",
              "      gap: 12px;\n",
              "    }\n",
              "\n",
              "    .colab-df-convert {\n",
              "      background-color: #E8F0FE;\n",
              "      border: none;\n",
              "      border-radius: 50%;\n",
              "      cursor: pointer;\n",
              "      display: none;\n",
              "      fill: #1967D2;\n",
              "      height: 32px;\n",
              "      padding: 0 0 0 0;\n",
              "      width: 32px;\n",
              "    }\n",
              "\n",
              "    .colab-df-convert:hover {\n",
              "      background-color: #E2EBFA;\n",
              "      box-shadow: 0px 1px 2px rgba(60, 64, 67, 0.3), 0px 1px 3px 1px rgba(60, 64, 67, 0.15);\n",
              "      fill: #174EA6;\n",
              "    }\n",
              "\n",
              "    [theme=dark] .colab-df-convert {\n",
              "      background-color: #3B4455;\n",
              "      fill: #D2E3FC;\n",
              "    }\n",
              "\n",
              "    [theme=dark] .colab-df-convert:hover {\n",
              "      background-color: #434B5C;\n",
              "      box-shadow: 0px 1px 3px 1px rgba(0, 0, 0, 0.15);\n",
              "      filter: drop-shadow(0px 1px 2px rgba(0, 0, 0, 0.3));\n",
              "      fill: #FFFFFF;\n",
              "    }\n",
              "  </style>\n",
              "\n",
              "      <script>\n",
              "        const buttonEl =\n",
              "          document.querySelector('#df-cc6f2ad7-aefa-4ac5-a94f-79bad6a5ca6c button.colab-df-convert');\n",
              "        buttonEl.style.display =\n",
              "          google.colab.kernel.accessAllowed ? 'block' : 'none';\n",
              "\n",
              "        async function convertToInteractive(key) {\n",
              "          const element = document.querySelector('#df-cc6f2ad7-aefa-4ac5-a94f-79bad6a5ca6c');\n",
              "          const dataTable =\n",
              "            await google.colab.kernel.invokeFunction('convertToInteractive',\n",
              "                                                     [key], {});\n",
              "          if (!dataTable) return;\n",
              "\n",
              "          const docLinkHtml = 'Like what you see? Visit the ' +\n",
              "            '<a target=\"_blank\" href=https://colab.research.google.com/notebooks/data_table.ipynb>data table notebook</a>'\n",
              "            + ' to learn more about interactive tables.';\n",
              "          element.innerHTML = '';\n",
              "          dataTable['output_type'] = 'display_data';\n",
              "          await google.colab.output.renderOutput(dataTable, element);\n",
              "          const docLink = document.createElement('div');\n",
              "          docLink.innerHTML = docLinkHtml;\n",
              "          element.appendChild(docLink);\n",
              "        }\n",
              "      </script>\n",
              "    </div>\n",
              "  </div>\n",
              "  "
            ]
          },
          "metadata": {},
          "execution_count": 34
        }
      ]
    },
    {
      "cell_type": "code",
      "source": [
        "# Taking these seven columns for model building\n",
        "input_cols = ['Mileage','Cylinder','Make','Model','Type','Liter','Doors','Cruise','Sound','Leather']\n",
        "X = df1[input_cols]\n",
        "Y = df1['Price'].values.reshape(-1,1)\n",
        "model1 = LinearRegression()\n",
        "model1.fit(X,Y)\n",
        "print(\"Intercept:{} ,Coefficients:{}\".format(model1.intercept_, model1.coef_))\n",
        "model1.score(X,Y)"
      ],
      "metadata": {
        "colab": {
          "base_uri": "https://localhost:8080/"
        },
        "id": "_808LW7NuFkq",
        "outputId": "b3284dd4-16b7-44d7-db91-19ce6e7f2785"
      },
      "execution_count": 35,
      "outputs": [
        {
          "output_type": "stream",
          "name": "stdout",
          "text": [
            "Intercept:[3039.64350271] ,Coefficients:[[-1.71673657e-01  4.87578755e+03  8.32075788e+02 -2.05034394e+02\n",
            "   4.31124572e+01 -8.92252597e+02 -1.50175555e+03  5.14099964e+03\n",
            "  -1.33287926e+03  2.77089529e+03]]\n"
          ]
        },
        {
          "output_type": "execute_result",
          "data": {
            "text/plain": [
              "0.48569139005488504"
            ]
          },
          "metadata": {},
          "execution_count": 35
        }
      ]
    },
    {
      "cell_type": "code",
      "source": [
        "combos = input_combos(input_cols)"
      ],
      "metadata": {
        "id": "31KjsLUyuHqC"
      },
      "execution_count": 36,
      "outputs": []
    },
    {
      "cell_type": "code",
      "source": [
        "def combo_r2scores( all_combos, df, output='Price'):\n",
        "    combo_scores = {}\n",
        "    for i in range(len(list(all_combos))):\n",
        "        for j in list(all_combos[i]):\n",
        "            X = df[list(j)]\n",
        "            Y = df['Price']\n",
        "            model = LinearRegression().fit(X,Y)\n",
        "            combo_scores[model.score(X,Y)] = j\n",
        "    return combo_scores"
      ],
      "metadata": {
        "id": "AAmDkKD6uJy3"
      },
      "execution_count": 37,
      "outputs": []
    },
    {
      "cell_type": "code",
      "source": [
        "output_dict = combo_r2scores(combos,df1,'Price')"
      ],
      "metadata": {
        "id": "tYOy_u1fuMk6"
      },
      "execution_count": 38,
      "outputs": []
    },
    {
      "cell_type": "code",
      "source": [
        "max(output_dict)"
      ],
      "metadata": {
        "colab": {
          "base_uri": "https://localhost:8080/"
        },
        "id": "l2tAKkSJuN5o",
        "outputId": "75b7c9f6-d47d-4ffe-f42f-fcddeb9e7621"
      },
      "execution_count": 39,
      "outputs": [
        {
          "output_type": "execute_result",
          "data": {
            "text/plain": [
              "0.48569139005488504"
            ]
          },
          "metadata": {},
          "execution_count": 39
        }
      ]
    },
    {
      "cell_type": "code",
      "source": [
        "sns.heatmap(df.corr(), annot=True)"
      ],
      "metadata": {
        "colab": {
          "base_uri": "https://localhost:8080/",
          "height": 496
        },
        "id": "9AscgsGGuRBy",
        "outputId": "2106942f-dbe0-40e1-e61f-529baa25ae1f"
      },
      "execution_count": 40,
      "outputs": [
        {
          "output_type": "execute_result",
          "data": {
            "text/plain": [
              "<Axes: >"
            ]
          },
          "metadata": {},
          "execution_count": 40
        },
        {
          "output_type": "display_data",
          "data": {
            "text/plain": [
              "<Figure size 640x480 with 2 Axes>"
            ],
            "image/png": "[encoded data removed]"
          },
          "metadata": {}
        }
      ]
    },
    {
      "cell_type": "code",
      "source": [
        "df1 = df.copy()"
      ],
      "metadata": {
        "id": "P-HfJBZcuee_"
      },
      "execution_count": 41,
      "outputs": []
    },
    {
      "cell_type": "code",
      "source": [
        "df1['Model'] = df1['Model'].astype('category')\n",
        "df1['Model'] = df1['Model'].cat.codes"
      ],
      "metadata": {
        "id": "MoXe-Cvbuk4P"
      },
      "execution_count": 42,
      "outputs": []
    },
    {
      "cell_type": "code",
      "source": [
        "df_dummies = pd.get_dummies(df1, columns = ['Make','Type'])"
      ],
      "metadata": {
        "id": "p6hSr4ERunB8"
      },
      "execution_count": 43,
      "outputs": []
    },
    {
      "cell_type": "code",
      "source": [
        "input_cols=['Mileage', 'Cylinder','Liter','Model','Doors', 'Cruise',\n",
        "       'Sound', 'Leather', 'Make_Buick', 'Make_Cadillac', 'Make_Chevrolet',\n",
        "       'Make_Pontiac', 'Make_SAAB', 'Make_Saturn','Type_Convertible', 'Type_Coupe',\n",
        "       'Type_Hatchback', 'Type_Sedan', 'Type_Wagon']"
      ],
      "metadata": {
        "id": "hU-yLXpCuoeX"
      },
      "execution_count": 44,
      "outputs": []
    },
    {
      "cell_type": "code",
      "source": [
        "X = df_dummies[input_cols]"
      ],
      "metadata": {
        "id": "PKqYpFW_up5e"
      },
      "execution_count": 45,
      "outputs": []
    },
    {
      "cell_type": "code",
      "source": [
        "Y = df['Price'].values.reshape(-1,1)\n",
        "model1 = LinearRegression()\n",
        "model1.fit(X,Y)\n",
        "print(\"Intercept:{} ,Coefficients:{}\".format(model1.intercept_, model1.coef_))\n",
        "model1.score(X,Y)"
      ],
      "metadata": {
        "colab": {
          "base_uri": "https://localhost:8080/"
        },
        "id": "sc5U-RA0urYm",
        "outputId": "f7c68369-1815-4efe-db2d-536866f3c806"
      },
      "execution_count": 46,
      "outputs": [
        {
          "output_type": "stream",
          "name": "stdout",
          "text": [
            "Intercept:[23377.98090878] ,Coefficients:[[-1.84575188e-01 -1.25812618e+03  5.68575195e+03  5.86830951e+01\n",
            "  -2.09123334e+03  1.81499295e+02  2.05060415e+02  2.89961148e+02\n",
            "  -3.96158031e+03  1.22141649e+04 -5.27969841e+03 -5.52735103e+03\n",
            "   7.75088755e+03 -5.19642271e+03  6.49494131e+03 -5.44932464e+03\n",
            "  -1.57653214e+03 -1.46170953e+03  1.99262500e+03]]\n"
          ]
        },
        {
          "output_type": "execute_result",
          "data": {
            "text/plain": [
              "0.9376502168807379"
            ]
          },
          "metadata": {},
          "execution_count": 46
        }
      ]
    },
    {
      "cell_type": "code",
      "source": [
        "df_dummies = pd.get_dummies(df1, columns = ['Make','Type'])"
      ],
      "metadata": {
        "id": "ai8Er_o1utiy"
      },
      "execution_count": 47,
      "outputs": []
    },
    {
      "cell_type": "code",
      "source": [
        "input_cols=['Mileage', 'Cylinder','Liter','Doors', 'Cruise',\n",
        "       'Sound', 'Leather', 'Make_Buick', 'Make_Cadillac', 'Make_Chevrolet',\n",
        "       'Make_Pontiac', 'Make_SAAB', 'Make_Saturn','Type_Convertible', 'Type_Coupe',\n",
        "       'Type_Hatchback', 'Type_Sedan', 'Type_Wagon']"
      ],
      "metadata": {
        "id": "s2RU7ki9uwJ7"
      },
      "execution_count": 48,
      "outputs": []
    },
    {
      "cell_type": "code",
      "source": [
        "X = df_dummies[input_cols]"
      ],
      "metadata": {
        "id": "_nhQsQ9euyM5"
      },
      "execution_count": 49,
      "outputs": []
    },
    {
      "cell_type": "code",
      "source": [
        "\n",
        "Y = df['Price'].values.reshape(-1,1)\n",
        "model1 = LinearRegression()\n",
        "model1.fit(X,Y)\n",
        "print(\"Intercept:{} ,Coefficients:{}\".format(model1.intercept_, model1.coef_))\n",
        "model1.score(X,Y)"
      ],
      "metadata": {
        "colab": {
          "base_uri": "https://localhost:8080/"
        },
        "id": "KnQBQN8BuznV",
        "outputId": "89c8c70f-c6e9-4408-fb29-17be4ec6061d"
      },
      "execution_count": 50,
      "outputs": [
        {
          "output_type": "stream",
          "name": "stdout",
          "text": [
            "Intercept:[23983.77190962] ,Coefficients:[[-1.84862466e-01 -1.22610774e+03  5.76120797e+03 -2.06693208e+03\n",
            "   1.11145653e+02  2.95622523e+02  2.34258573e+02 -3.58669276e+03\n",
            "   1.22732515e+04 -5.33495094e+03 -5.47974129e+03  6.95098389e+03\n",
            "  -4.82285042e+03  6.52818455e+03 -5.49471851e+03 -1.71994175e+03\n",
            "  -1.69110942e+03  2.37758514e+03]]\n"
          ]
        },
        {
          "output_type": "execute_result",
          "data": {
            "text/plain": [
              "0.9363889951039477"
            ]
          },
          "metadata": {},
          "execution_count": 50
        }
      ]
    },
    {
      "cell_type": "markdown",
      "source": [
        "Conl\n",
        "\n",
        "The combination of 'Mileage', 'Cylinder','Liter','Doors', 'Cruise','Sound','Leather','Make' and 'Type' is best combination of features for the linear regression model."
      ],
      "metadata": {
        "id": "3ggc42n4u6m_"
      }
    }
  ]
}